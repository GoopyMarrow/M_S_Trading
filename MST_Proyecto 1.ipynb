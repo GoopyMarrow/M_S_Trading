{
 "cells": [
  {
   "cell_type": "markdown",
   "id": "524e97c7",
   "metadata": {},
   "source": [
    "# Proyecto 1 Microestructuras y sistemas de Trading"
   ]
  },
  {
   "cell_type": "markdown",
   "id": "180223bc",
   "metadata": {},
   "source": [
    "import numpy as np"
   ]
  },
  {
   "cell_type": "code",
   "execution_count": null,
   "id": "1ba1f29a",
   "metadata": {},
   "outputs": [],
   "source": "import sys, os"
  },
  {
   "metadata": {},
   "cell_type": "code",
   "outputs": [],
   "execution_count": null,
   "source": [
    "income = (gross_wages +\n",
    "          taxable_interest +\n",
    "          (dividends - qualified_dividends) -\n",
    "          ira_deduction -\n",
    "          student_loan_interest)"
   ],
   "id": "7090ecb12505b8da"
  }
 ],
 "metadata": {
  "kernelspec": {
   "display_name": "Python 3",
   "language": "python",
   "name": "python3"
  },
  "language_info": {
   "name": "python",
   "version": "3.13.7"
  }
 },
 "nbformat": 4,
 "nbformat_minor": 5
}
